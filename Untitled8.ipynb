{
 "cells": [
  {
   "cell_type": "code",
   "execution_count": null,
   "id": "eed2e0a2-473a-4a06-8abe-0993ca1792de",
   "metadata": {},
   "outputs": [],
   "source": [
    "1) Un webservice est une application permettant la communication et l’échange de données avec d’autre application web.\n",
    "\n",
    "2) Un API REST est une interface qui consiste à programmer des application comme des applications web et ayant comme particularité de respecter les contraintes d’architecture REST. L’architecture REST se caractérise par 5 critères ; l’URL comme identifiant des ressources , les verbes HTTP comme identifiant des operations , les réponses HTTP comme representations des ressources …\n",
    "Rest est donc un ensemble de contrainte.\n",
    "\n",
    "3) FastApi est un framework . Un framework est un ensemble d’outil à la base d’un logiciel. FastApi permet de créer des API. Il est rapide sort et facile. Ca principale caractéristique est qu’il génère la documentation en cours d’execution lors du devellopement d’un API."
   ]
  }
 ],
 "metadata": {
  "kernelspec": {
   "display_name": "Python 3 (ipykernel)",
   "language": "python",
   "name": "python3"
  },
  "language_info": {
   "codemirror_mode": {
    "name": "ipython",
    "version": 3
   },
   "file_extension": ".py",
   "mimetype": "text/x-python",
   "name": "python",
   "nbconvert_exporter": "python",
   "pygments_lexer": "ipython3",
   "version": "3.8.2"
  }
 },
 "nbformat": 4,
 "nbformat_minor": 5
}
